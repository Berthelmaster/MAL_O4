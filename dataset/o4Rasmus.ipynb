{
 "cells": [
  {
   "cell_type": "code",
   "execution_count": 21,
   "metadata": {},
   "outputs": [],
   "source": [
    "import csv\n",
    "import numpy as np\n",
    "import pandas as pd\n",
    "import matplotlib.pyplot as plt\n",
    "from sklearn.model_selection import train_test_split\n"
   ]
  },
  {
   "cell_type": "code",
   "execution_count": 22,
   "metadata": {},
   "outputs": [],
   "source": [
    "appData = pd.read_csv(\"googleplaystore.csv\")\n",
    "dataUserReview = pd.read_csv(\"googleplaystore_user_reviews.csv\")"
   ]
  },
  {
   "cell_type": "code",
   "execution_count": 23,
   "metadata": {},
   "outputs": [
    {
     "data": {
      "text/html": [
       "<div>\n",
       "<style scoped>\n",
       "    .dataframe tbody tr th:only-of-type {\n",
       "        vertical-align: middle;\n",
       "    }\n",
       "\n",
       "    .dataframe tbody tr th {\n",
       "        vertical-align: top;\n",
       "    }\n",
       "\n",
       "    .dataframe thead th {\n",
       "        text-align: right;\n",
       "    }\n",
       "</style>\n",
       "<table border=\"1\" class=\"dataframe\">\n",
       "  <thead>\n",
       "    <tr style=\"text-align: right;\">\n",
       "      <th></th>\n",
       "      <th>App</th>\n",
       "      <th>Category</th>\n",
       "      <th>Rating</th>\n",
       "      <th>Reviews</th>\n",
       "      <th>Size</th>\n",
       "      <th>Installs</th>\n",
       "      <th>Type</th>\n",
       "      <th>Price</th>\n",
       "      <th>Content Rating</th>\n",
       "      <th>Genres</th>\n",
       "      <th>Last Updated</th>\n",
       "      <th>Current Ver</th>\n",
       "      <th>Android Ver</th>\n",
       "    </tr>\n",
       "  </thead>\n",
       "  <tbody>\n",
       "    <tr>\n",
       "      <td>0</td>\n",
       "      <td>Photo Editor &amp; Candy Camera &amp; Grid &amp; ScrapBook</td>\n",
       "      <td>ART_AND_DESIGN</td>\n",
       "      <td>4.1</td>\n",
       "      <td>159</td>\n",
       "      <td>19M</td>\n",
       "      <td>10,000+</td>\n",
       "      <td>Free</td>\n",
       "      <td>0</td>\n",
       "      <td>Everyone</td>\n",
       "      <td>Art &amp; Design</td>\n",
       "      <td>January 7, 2018</td>\n",
       "      <td>1.0.0</td>\n",
       "      <td>4.0.3 and up</td>\n",
       "    </tr>\n",
       "    <tr>\n",
       "      <td>1</td>\n",
       "      <td>Coloring book moana</td>\n",
       "      <td>ART_AND_DESIGN</td>\n",
       "      <td>3.9</td>\n",
       "      <td>967</td>\n",
       "      <td>14M</td>\n",
       "      <td>500,000+</td>\n",
       "      <td>Free</td>\n",
       "      <td>0</td>\n",
       "      <td>Everyone</td>\n",
       "      <td>Art &amp; Design;Pretend Play</td>\n",
       "      <td>January 15, 2018</td>\n",
       "      <td>2.0.0</td>\n",
       "      <td>4.0.3 and up</td>\n",
       "    </tr>\n",
       "    <tr>\n",
       "      <td>2</td>\n",
       "      <td>U Launcher Lite – FREE Live Cool Themes, Hide ...</td>\n",
       "      <td>ART_AND_DESIGN</td>\n",
       "      <td>4.7</td>\n",
       "      <td>87510</td>\n",
       "      <td>8.7M</td>\n",
       "      <td>5,000,000+</td>\n",
       "      <td>Free</td>\n",
       "      <td>0</td>\n",
       "      <td>Everyone</td>\n",
       "      <td>Art &amp; Design</td>\n",
       "      <td>August 1, 2018</td>\n",
       "      <td>1.2.4</td>\n",
       "      <td>4.0.3 and up</td>\n",
       "    </tr>\n",
       "    <tr>\n",
       "      <td>3</td>\n",
       "      <td>Sketch - Draw &amp; Paint</td>\n",
       "      <td>ART_AND_DESIGN</td>\n",
       "      <td>4.5</td>\n",
       "      <td>215644</td>\n",
       "      <td>25M</td>\n",
       "      <td>50,000,000+</td>\n",
       "      <td>Free</td>\n",
       "      <td>0</td>\n",
       "      <td>Teen</td>\n",
       "      <td>Art &amp; Design</td>\n",
       "      <td>June 8, 2018</td>\n",
       "      <td>Varies with device</td>\n",
       "      <td>4.2 and up</td>\n",
       "    </tr>\n",
       "    <tr>\n",
       "      <td>4</td>\n",
       "      <td>Pixel Draw - Number Art Coloring Book</td>\n",
       "      <td>ART_AND_DESIGN</td>\n",
       "      <td>4.3</td>\n",
       "      <td>967</td>\n",
       "      <td>2.8M</td>\n",
       "      <td>100,000+</td>\n",
       "      <td>Free</td>\n",
       "      <td>0</td>\n",
       "      <td>Everyone</td>\n",
       "      <td>Art &amp; Design;Creativity</td>\n",
       "      <td>June 20, 2018</td>\n",
       "      <td>1.1</td>\n",
       "      <td>4.4 and up</td>\n",
       "    </tr>\n",
       "  </tbody>\n",
       "</table>\n",
       "</div>"
      ],
      "text/plain": [
       "                                                 App        Category  Rating  \\\n",
       "0     Photo Editor & Candy Camera & Grid & ScrapBook  ART_AND_DESIGN     4.1   \n",
       "1                                Coloring book moana  ART_AND_DESIGN     3.9   \n",
       "2  U Launcher Lite – FREE Live Cool Themes, Hide ...  ART_AND_DESIGN     4.7   \n",
       "3                              Sketch - Draw & Paint  ART_AND_DESIGN     4.5   \n",
       "4              Pixel Draw - Number Art Coloring Book  ART_AND_DESIGN     4.3   \n",
       "\n",
       "  Reviews  Size     Installs  Type Price Content Rating  \\\n",
       "0     159   19M      10,000+  Free     0       Everyone   \n",
       "1     967   14M     500,000+  Free     0       Everyone   \n",
       "2   87510  8.7M   5,000,000+  Free     0       Everyone   \n",
       "3  215644   25M  50,000,000+  Free     0           Teen   \n",
       "4     967  2.8M     100,000+  Free     0       Everyone   \n",
       "\n",
       "                      Genres      Last Updated         Current Ver  \\\n",
       "0               Art & Design   January 7, 2018               1.0.0   \n",
       "1  Art & Design;Pretend Play  January 15, 2018               2.0.0   \n",
       "2               Art & Design    August 1, 2018               1.2.4   \n",
       "3               Art & Design      June 8, 2018  Varies with device   \n",
       "4    Art & Design;Creativity     June 20, 2018                 1.1   \n",
       "\n",
       "    Android Ver  \n",
       "0  4.0.3 and up  \n",
       "1  4.0.3 and up  \n",
       "2  4.0.3 and up  \n",
       "3    4.2 and up  \n",
       "4    4.4 and up  "
      ]
     },
     "execution_count": 23,
     "metadata": {},
     "output_type": "execute_result"
    }
   ],
   "source": [
    "appData.head()"
   ]
  },
  {
   "cell_type": "code",
   "execution_count": 24,
   "metadata": {},
   "outputs": [
    {
     "name": "stdout",
     "output_type": "stream",
     "text": [
      "<class 'pandas.core.frame.DataFrame'>\n",
      "RangeIndex: 10841 entries, 0 to 10840\n",
      "Data columns (total 13 columns):\n",
      "App               10841 non-null object\n",
      "Category          10841 non-null object\n",
      "Rating            9367 non-null float64\n",
      "Reviews           10841 non-null object\n",
      "Size              10841 non-null object\n",
      "Installs          10841 non-null object\n",
      "Type              10840 non-null object\n",
      "Price             10841 non-null object\n",
      "Content Rating    10840 non-null object\n",
      "Genres            10841 non-null object\n",
      "Last Updated      10841 non-null object\n",
      "Current Ver       10833 non-null object\n",
      "Android Ver       10838 non-null object\n",
      "dtypes: float64(1), object(12)\n",
      "memory usage: 1.1+ MB\n"
     ]
    }
   ],
   "source": [
    "appData.info()\n"
   ]
  },
  {
   "cell_type": "code",
   "execution_count": 25,
   "metadata": {},
   "outputs": [],
   "source": [
    "#Først sørger vi for at fjerne NaN værdier for at gøre det nemmere for os selv i fremtiden da vi skal predicte en rating\n",
    "appData.dropna(inplace=True)"
   ]
  },
  {
   "cell_type": "code",
   "execution_count": 26,
   "metadata": {},
   "outputs": [
    {
     "name": "stdout",
     "output_type": "stream",
     "text": [
      "<class 'pandas.core.frame.DataFrame'>\n",
      "Int64Index: 9360 entries, 0 to 10840\n",
      "Data columns (total 13 columns):\n",
      "App               9360 non-null object\n",
      "Category          9360 non-null object\n",
      "Rating            9360 non-null float64\n",
      "Reviews           9360 non-null object\n",
      "Size              9360 non-null object\n",
      "Installs          9360 non-null object\n",
      "Type              9360 non-null object\n",
      "Price             9360 non-null object\n",
      "Content Rating    9360 non-null object\n",
      "Genres            9360 non-null object\n",
      "Last Updated      9360 non-null object\n",
      "Current Ver       9360 non-null object\n",
      "Android Ver       9360 non-null object\n",
      "dtypes: float64(1), object(12)\n",
      "memory usage: 1023.8+ KB\n"
     ]
    }
   ],
   "source": [
    "appData.info()\n"
   ]
  },
  {
   "cell_type": "code",
   "execution_count": 27,
   "metadata": {},
   "outputs": [],
   "source": [
    "ValCategory = appData[\"Category\"].unique()\n",
    "ValCategoryCount = len(ValCategory)\n",
    "StringCategory = appData[\"Category\"]\n",
    "category = {}\n",
    "for i in range(0,ValCategoryCount):\n",
    "    category[ValCategory[i]] = i\n",
    "appData[\"Category_new\"] = appData[\"Category\"].map(category).astype(int)"
   ]
  },
  {
   "cell_type": "code",
   "execution_count": 28,
   "metadata": {},
   "outputs": [],
   "source": [
    "ValGenre = appData.Genres.unique()\n",
    "genre = {}\n",
    "for i in range(len(ValGenre)):\n",
    "    genre[ValGenre[i]] = i\n",
    "appData['Genres_new'] = appData['Genres'].map(genre).astype(int)\n",
    "    "
   ]
  },
  {
   "cell_type": "code",
   "execution_count": 29,
   "metadata": {},
   "outputs": [],
   "source": [
    "#Convert Content rating to Int\n",
    "ValContentRating = appData['Content Rating'].unique()\n",
    "contentRating = {}\n",
    "for i in range(len(ValContentRating)):\n",
    "    contentRating[ValContentRating[i]] = i\n",
    "appData['Content Rating'] = appData['Content Rating'].map(contentRating).astype(int)"
   ]
  },
  {
   "cell_type": "code",
   "execution_count": 30,
   "metadata": {},
   "outputs": [],
   "source": [
    "#Convert Type to Int\n",
    "def TypeInt(types):\n",
    "    if types == 'Free':\n",
    "        return 0\n",
    "    else:\n",
    "        return 1\n",
    "appData['Type'] = appData['Type'].map(TypeInt)"
   ]
  },
  {
   "cell_type": "code",
   "execution_count": 31,
   "metadata": {},
   "outputs": [],
   "source": [
    "#Convert Size til float64\n",
    "def SizeFloat64(size):\n",
    "    if 'M' in size:\n",
    "        new_size = size[:-1]\n",
    "        new_size = float(new_size)*1000000\n",
    "        return new_size\n",
    "    elif 'k' == size[-1:]:\n",
    "        new_size = size[:-1]\n",
    "        new_size = float(new_size)*1000\n",
    "        return new_size\n",
    "appData['Size'] = appData['Size'].map(SizeFloat64)\n",
    "\n",
    "\n",
    "#Da vi antallet af Size ikke er det samme som de andre så bruger vi ffil til at få det samme antal\n",
    "\n",
    "appData.Size.fillna(method = 'ffill', inplace = True)\n",
    "        "
   ]
  },
  {
   "cell_type": "code",
   "execution_count": 32,
   "metadata": {},
   "outputs": [],
   "source": [
    "#Convert Installs to Int\n",
    "appData['Installs'] = [int(i[:-1].replace(',','')) for i in appData['Installs']]"
   ]
  },
  {
   "cell_type": "code",
   "execution_count": 33,
   "metadata": {},
   "outputs": [],
   "source": [
    "#Convert Reviews til Int\n",
    "appData['Reviews'] = appData['Reviews'].astype(int)"
   ]
  },
  {
   "cell_type": "code",
   "execution_count": 34,
   "metadata": {},
   "outputs": [],
   "source": [
    "#Convert Price til Float64\n",
    "def priceFloat64(price):\n",
    "    if price == '0':\n",
    "        return 0\n",
    "    else:\n",
    "        price = price[1:]\n",
    "        price = float(price)\n",
    "        return price\n",
    "    \n",
    "appData['Price'] = appData['Price'].map(priceFloat64).astype(float)"
   ]
  },
  {
   "cell_type": "code",
   "execution_count": 35,
   "metadata": {},
   "outputs": [],
   "source": [
    "#Vi fjerne til sidst parametre som vi ikke mener vil være til gavn for os\n",
    "appData.drop(labels = ['App','Last Updated','Current Ver','Android Ver'],axis = 1, inplace = True)"
   ]
  },
  {
   "cell_type": "code",
   "execution_count": 36,
   "metadata": {},
   "outputs": [
    {
     "data": {
      "text/html": [
       "<div>\n",
       "<style scoped>\n",
       "    .dataframe tbody tr th:only-of-type {\n",
       "        vertical-align: middle;\n",
       "    }\n",
       "\n",
       "    .dataframe tbody tr th {\n",
       "        vertical-align: top;\n",
       "    }\n",
       "\n",
       "    .dataframe thead th {\n",
       "        text-align: right;\n",
       "    }\n",
       "</style>\n",
       "<table border=\"1\" class=\"dataframe\">\n",
       "  <thead>\n",
       "    <tr style=\"text-align: right;\">\n",
       "      <th></th>\n",
       "      <th>Category</th>\n",
       "      <th>Rating</th>\n",
       "      <th>Reviews</th>\n",
       "      <th>Size</th>\n",
       "      <th>Installs</th>\n",
       "      <th>Type</th>\n",
       "      <th>Price</th>\n",
       "      <th>Content Rating</th>\n",
       "      <th>Genres</th>\n",
       "      <th>Category_new</th>\n",
       "      <th>Genres_new</th>\n",
       "    </tr>\n",
       "  </thead>\n",
       "  <tbody>\n",
       "    <tr>\n",
       "      <td>0</td>\n",
       "      <td>ART_AND_DESIGN</td>\n",
       "      <td>4.1</td>\n",
       "      <td>159</td>\n",
       "      <td>19000000.0</td>\n",
       "      <td>10000</td>\n",
       "      <td>0</td>\n",
       "      <td>0.0</td>\n",
       "      <td>0</td>\n",
       "      <td>Art &amp; Design</td>\n",
       "      <td>0</td>\n",
       "      <td>0</td>\n",
       "    </tr>\n",
       "    <tr>\n",
       "      <td>1</td>\n",
       "      <td>ART_AND_DESIGN</td>\n",
       "      <td>3.9</td>\n",
       "      <td>967</td>\n",
       "      <td>14000000.0</td>\n",
       "      <td>500000</td>\n",
       "      <td>0</td>\n",
       "      <td>0.0</td>\n",
       "      <td>0</td>\n",
       "      <td>Art &amp; Design;Pretend Play</td>\n",
       "      <td>0</td>\n",
       "      <td>1</td>\n",
       "    </tr>\n",
       "    <tr>\n",
       "      <td>2</td>\n",
       "      <td>ART_AND_DESIGN</td>\n",
       "      <td>4.7</td>\n",
       "      <td>87510</td>\n",
       "      <td>8700000.0</td>\n",
       "      <td>5000000</td>\n",
       "      <td>0</td>\n",
       "      <td>0.0</td>\n",
       "      <td>0</td>\n",
       "      <td>Art &amp; Design</td>\n",
       "      <td>0</td>\n",
       "      <td>0</td>\n",
       "    </tr>\n",
       "    <tr>\n",
       "      <td>3</td>\n",
       "      <td>ART_AND_DESIGN</td>\n",
       "      <td>4.5</td>\n",
       "      <td>215644</td>\n",
       "      <td>25000000.0</td>\n",
       "      <td>50000000</td>\n",
       "      <td>0</td>\n",
       "      <td>0.0</td>\n",
       "      <td>1</td>\n",
       "      <td>Art &amp; Design</td>\n",
       "      <td>0</td>\n",
       "      <td>0</td>\n",
       "    </tr>\n",
       "    <tr>\n",
       "      <td>4</td>\n",
       "      <td>ART_AND_DESIGN</td>\n",
       "      <td>4.3</td>\n",
       "      <td>967</td>\n",
       "      <td>2800000.0</td>\n",
       "      <td>100000</td>\n",
       "      <td>0</td>\n",
       "      <td>0.0</td>\n",
       "      <td>0</td>\n",
       "      <td>Art &amp; Design;Creativity</td>\n",
       "      <td>0</td>\n",
       "      <td>2</td>\n",
       "    </tr>\n",
       "  </tbody>\n",
       "</table>\n",
       "</div>"
      ],
      "text/plain": [
       "         Category  Rating  Reviews        Size  Installs  Type  Price  \\\n",
       "0  ART_AND_DESIGN     4.1      159  19000000.0     10000     0    0.0   \n",
       "1  ART_AND_DESIGN     3.9      967  14000000.0    500000     0    0.0   \n",
       "2  ART_AND_DESIGN     4.7    87510   8700000.0   5000000     0    0.0   \n",
       "3  ART_AND_DESIGN     4.5   215644  25000000.0  50000000     0    0.0   \n",
       "4  ART_AND_DESIGN     4.3      967   2800000.0    100000     0    0.0   \n",
       "\n",
       "   Content Rating                     Genres  Category_new  Genres_new  \n",
       "0               0               Art & Design             0           0  \n",
       "1               0  Art & Design;Pretend Play             0           1  \n",
       "2               0               Art & Design             0           0  \n",
       "3               1               Art & Design             0           0  \n",
       "4               0    Art & Design;Creativity             0           2  "
      ]
     },
     "execution_count": 36,
     "metadata": {},
     "output_type": "execute_result"
    }
   ],
   "source": [
    "appData.head()"
   ]
  },
  {
   "cell_type": "code",
   "execution_count": 37,
   "metadata": {},
   "outputs": [],
   "source": [
    "#Her er Category fordelt på hver sin column\n",
    "appData2 = pd.get_dummies(appData, columns=['Category'])"
   ]
  },
  {
   "cell_type": "code",
   "execution_count": 38,
   "metadata": {},
   "outputs": [
    {
     "data": {
      "text/html": [
       "<div>\n",
       "<style scoped>\n",
       "    .dataframe tbody tr th:only-of-type {\n",
       "        vertical-align: middle;\n",
       "    }\n",
       "\n",
       "    .dataframe tbody tr th {\n",
       "        vertical-align: top;\n",
       "    }\n",
       "\n",
       "    .dataframe thead th {\n",
       "        text-align: right;\n",
       "    }\n",
       "</style>\n",
       "<table border=\"1\" class=\"dataframe\">\n",
       "  <thead>\n",
       "    <tr style=\"text-align: right;\">\n",
       "      <th></th>\n",
       "      <th>Rating</th>\n",
       "      <th>Reviews</th>\n",
       "      <th>Size</th>\n",
       "      <th>Installs</th>\n",
       "      <th>Type</th>\n",
       "      <th>Price</th>\n",
       "      <th>Content Rating</th>\n",
       "      <th>Genres</th>\n",
       "      <th>Category_new</th>\n",
       "      <th>Genres_new</th>\n",
       "      <th>...</th>\n",
       "      <th>Category_PERSONALIZATION</th>\n",
       "      <th>Category_PHOTOGRAPHY</th>\n",
       "      <th>Category_PRODUCTIVITY</th>\n",
       "      <th>Category_SHOPPING</th>\n",
       "      <th>Category_SOCIAL</th>\n",
       "      <th>Category_SPORTS</th>\n",
       "      <th>Category_TOOLS</th>\n",
       "      <th>Category_TRAVEL_AND_LOCAL</th>\n",
       "      <th>Category_VIDEO_PLAYERS</th>\n",
       "      <th>Category_WEATHER</th>\n",
       "    </tr>\n",
       "  </thead>\n",
       "  <tbody>\n",
       "    <tr>\n",
       "      <td>0</td>\n",
       "      <td>4.1</td>\n",
       "      <td>159</td>\n",
       "      <td>19000000.0</td>\n",
       "      <td>10000</td>\n",
       "      <td>0</td>\n",
       "      <td>0.0</td>\n",
       "      <td>0</td>\n",
       "      <td>Art &amp; Design</td>\n",
       "      <td>0</td>\n",
       "      <td>0</td>\n",
       "      <td>...</td>\n",
       "      <td>0</td>\n",
       "      <td>0</td>\n",
       "      <td>0</td>\n",
       "      <td>0</td>\n",
       "      <td>0</td>\n",
       "      <td>0</td>\n",
       "      <td>0</td>\n",
       "      <td>0</td>\n",
       "      <td>0</td>\n",
       "      <td>0</td>\n",
       "    </tr>\n",
       "    <tr>\n",
       "      <td>1</td>\n",
       "      <td>3.9</td>\n",
       "      <td>967</td>\n",
       "      <td>14000000.0</td>\n",
       "      <td>500000</td>\n",
       "      <td>0</td>\n",
       "      <td>0.0</td>\n",
       "      <td>0</td>\n",
       "      <td>Art &amp; Design;Pretend Play</td>\n",
       "      <td>0</td>\n",
       "      <td>1</td>\n",
       "      <td>...</td>\n",
       "      <td>0</td>\n",
       "      <td>0</td>\n",
       "      <td>0</td>\n",
       "      <td>0</td>\n",
       "      <td>0</td>\n",
       "      <td>0</td>\n",
       "      <td>0</td>\n",
       "      <td>0</td>\n",
       "      <td>0</td>\n",
       "      <td>0</td>\n",
       "    </tr>\n",
       "    <tr>\n",
       "      <td>2</td>\n",
       "      <td>4.7</td>\n",
       "      <td>87510</td>\n",
       "      <td>8700000.0</td>\n",
       "      <td>5000000</td>\n",
       "      <td>0</td>\n",
       "      <td>0.0</td>\n",
       "      <td>0</td>\n",
       "      <td>Art &amp; Design</td>\n",
       "      <td>0</td>\n",
       "      <td>0</td>\n",
       "      <td>...</td>\n",
       "      <td>0</td>\n",
       "      <td>0</td>\n",
       "      <td>0</td>\n",
       "      <td>0</td>\n",
       "      <td>0</td>\n",
       "      <td>0</td>\n",
       "      <td>0</td>\n",
       "      <td>0</td>\n",
       "      <td>0</td>\n",
       "      <td>0</td>\n",
       "    </tr>\n",
       "    <tr>\n",
       "      <td>3</td>\n",
       "      <td>4.5</td>\n",
       "      <td>215644</td>\n",
       "      <td>25000000.0</td>\n",
       "      <td>50000000</td>\n",
       "      <td>0</td>\n",
       "      <td>0.0</td>\n",
       "      <td>1</td>\n",
       "      <td>Art &amp; Design</td>\n",
       "      <td>0</td>\n",
       "      <td>0</td>\n",
       "      <td>...</td>\n",
       "      <td>0</td>\n",
       "      <td>0</td>\n",
       "      <td>0</td>\n",
       "      <td>0</td>\n",
       "      <td>0</td>\n",
       "      <td>0</td>\n",
       "      <td>0</td>\n",
       "      <td>0</td>\n",
       "      <td>0</td>\n",
       "      <td>0</td>\n",
       "    </tr>\n",
       "    <tr>\n",
       "      <td>4</td>\n",
       "      <td>4.3</td>\n",
       "      <td>967</td>\n",
       "      <td>2800000.0</td>\n",
       "      <td>100000</td>\n",
       "      <td>0</td>\n",
       "      <td>0.0</td>\n",
       "      <td>0</td>\n",
       "      <td>Art &amp; Design;Creativity</td>\n",
       "      <td>0</td>\n",
       "      <td>2</td>\n",
       "      <td>...</td>\n",
       "      <td>0</td>\n",
       "      <td>0</td>\n",
       "      <td>0</td>\n",
       "      <td>0</td>\n",
       "      <td>0</td>\n",
       "      <td>0</td>\n",
       "      <td>0</td>\n",
       "      <td>0</td>\n",
       "      <td>0</td>\n",
       "      <td>0</td>\n",
       "    </tr>\n",
       "  </tbody>\n",
       "</table>\n",
       "<p>5 rows × 43 columns</p>\n",
       "</div>"
      ],
      "text/plain": [
       "   Rating  Reviews        Size  Installs  Type  Price  Content Rating  \\\n",
       "0     4.1      159  19000000.0     10000     0    0.0               0   \n",
       "1     3.9      967  14000000.0    500000     0    0.0               0   \n",
       "2     4.7    87510   8700000.0   5000000     0    0.0               0   \n",
       "3     4.5   215644  25000000.0  50000000     0    0.0               1   \n",
       "4     4.3      967   2800000.0    100000     0    0.0               0   \n",
       "\n",
       "                      Genres  Category_new  Genres_new  ...  \\\n",
       "0               Art & Design             0           0  ...   \n",
       "1  Art & Design;Pretend Play             0           1  ...   \n",
       "2               Art & Design             0           0  ...   \n",
       "3               Art & Design             0           0  ...   \n",
       "4    Art & Design;Creativity             0           2  ...   \n",
       "\n",
       "   Category_PERSONALIZATION  Category_PHOTOGRAPHY  Category_PRODUCTIVITY  \\\n",
       "0                         0                     0                      0   \n",
       "1                         0                     0                      0   \n",
       "2                         0                     0                      0   \n",
       "3                         0                     0                      0   \n",
       "4                         0                     0                      0   \n",
       "\n",
       "   Category_SHOPPING  Category_SOCIAL  Category_SPORTS  Category_TOOLS  \\\n",
       "0                  0                0                0               0   \n",
       "1                  0                0                0               0   \n",
       "2                  0                0                0               0   \n",
       "3                  0                0                0               0   \n",
       "4                  0                0                0               0   \n",
       "\n",
       "   Category_TRAVEL_AND_LOCAL  Category_VIDEO_PLAYERS  Category_WEATHER  \n",
       "0                          0                       0                 0  \n",
       "1                          0                       0                 0  \n",
       "2                          0                       0                 0  \n",
       "3                          0                       0                 0  \n",
       "4                          0                       0                 0  \n",
       "\n",
       "[5 rows x 43 columns]"
      ]
     },
     "execution_count": 38,
     "metadata": {},
     "output_type": "execute_result"
    }
   ],
   "source": [
    "appData2.head()\n"
   ]
  },
  {
   "cell_type": "code",
   "execution_count": 40,
   "metadata": {},
   "outputs": [
    {
     "name": "stdout",
     "output_type": "stream",
     "text": [
      "<class 'pandas.core.frame.DataFrame'>\n",
      "Int64Index: 9360 entries, 0 to 10840\n",
      "Data columns (total 43 columns):\n",
      "Rating                          9360 non-null float64\n",
      "Reviews                         9360 non-null int32\n",
      "Size                            9360 non-null float64\n",
      "Installs                        9360 non-null int64\n",
      "Type                            9360 non-null int64\n",
      "Price                           9360 non-null float64\n",
      "Content Rating                  9360 non-null int32\n",
      "Genres                          9360 non-null object\n",
      "Category_new                    9360 non-null int32\n",
      "Genres_new                      9360 non-null int32\n",
      "Category_ART_AND_DESIGN         9360 non-null uint8\n",
      "Category_AUTO_AND_VEHICLES      9360 non-null uint8\n",
      "Category_BEAUTY                 9360 non-null uint8\n",
      "Category_BOOKS_AND_REFERENCE    9360 non-null uint8\n",
      "Category_BUSINESS               9360 non-null uint8\n",
      "Category_COMICS                 9360 non-null uint8\n",
      "Category_COMMUNICATION          9360 non-null uint8\n",
      "Category_DATING                 9360 non-null uint8\n",
      "Category_EDUCATION              9360 non-null uint8\n",
      "Category_ENTERTAINMENT          9360 non-null uint8\n",
      "Category_EVENTS                 9360 non-null uint8\n",
      "Category_FAMILY                 9360 non-null uint8\n",
      "Category_FINANCE                9360 non-null uint8\n",
      "Category_FOOD_AND_DRINK         9360 non-null uint8\n",
      "Category_GAME                   9360 non-null uint8\n",
      "Category_HEALTH_AND_FITNESS     9360 non-null uint8\n",
      "Category_HOUSE_AND_HOME         9360 non-null uint8\n",
      "Category_LIBRARIES_AND_DEMO     9360 non-null uint8\n",
      "Category_LIFESTYLE              9360 non-null uint8\n",
      "Category_MAPS_AND_NAVIGATION    9360 non-null uint8\n",
      "Category_MEDICAL                9360 non-null uint8\n",
      "Category_NEWS_AND_MAGAZINES     9360 non-null uint8\n",
      "Category_PARENTING              9360 non-null uint8\n",
      "Category_PERSONALIZATION        9360 non-null uint8\n",
      "Category_PHOTOGRAPHY            9360 non-null uint8\n",
      "Category_PRODUCTIVITY           9360 non-null uint8\n",
      "Category_SHOPPING               9360 non-null uint8\n",
      "Category_SOCIAL                 9360 non-null uint8\n",
      "Category_SPORTS                 9360 non-null uint8\n",
      "Category_TOOLS                  9360 non-null uint8\n",
      "Category_TRAVEL_AND_LOCAL       9360 non-null uint8\n",
      "Category_VIDEO_PLAYERS          9360 non-null uint8\n",
      "Category_WEATHER                9360 non-null uint8\n",
      "dtypes: float64(3), int32(4), int64(2), object(1), uint8(33)\n",
      "memory usage: 959.8+ KB\n"
     ]
    }
   ],
   "source": [
    "appData2.info()"
   ]
  },
  {
   "cell_type": "code",
   "execution_count": 52,
   "metadata": {},
   "outputs": [],
   "source": [
    "X = appData2.drop(labels = ['Rating', 'Category_new','Genres'],axis = 1)\n",
    "y = appData2['Rating'].values\n",
    "y = y.astype('int')\n"
   ]
  },
  {
   "cell_type": "code",
   "execution_count": 53,
   "metadata": {},
   "outputs": [],
   "source": [
    "#Splitter data op i 1/5 til test og 4/5 til training\n",
    "from sklearn.model_selection import train_test_split\n",
    "X_train, X_test, y_train, y_test = train_test_split(X, y, test_size = 0.2)"
   ]
  },
  {
   "cell_type": "code",
   "execution_count": null,
   "metadata": {},
   "outputs": [],
   "source": [
    "#Vi vil nu sammenligne 3 forskellige modeller som ligner hinanden\n",
    "#Random Forest, SVM, logistic_Regression"
   ]
  },
  {
   "cell_type": "code",
   "execution_count": 54,
   "metadata": {},
   "outputs": [],
   "source": [
    "from sklearn.preprocessing import StandardScaler\n",
    "sc_X = StandardScaler()\n",
    "X_train = sc_X.fit_transform(X_train)\n",
    "X_test = sc_X.transform(X_test)"
   ]
  },
  {
   "cell_type": "code",
   "execution_count": 59,
   "metadata": {},
   "outputs": [],
   "source": [
    "#Random Forest\n",
    "from sklearn.ensemble import RandomForestClassifier\n",
    "from sklearn.metrics import confusion_matrix\n",
    "from sklearn.metrics import accuracy_score\n",
    "rf = RandomForestClassifier(n_estimators=10,criterion='entropy',random_state=0)\n",
    "rf.fit(X_train,y_train)\n",
    "rf_predict = rf.predict(X_test)\n",
    "rf_cm = confusion_matrix(y_test,rf_predict)\n",
    "rf_accuracy = accuracy_score(rf_predict, y_test)\n"
   ]
  },
  {
   "cell_type": "code",
   "execution_count": 81,
   "metadata": {},
   "outputs": [
    {
     "name": "stdout",
     "output_type": "stream",
     "text": [
      "Random Forest accuracy: 0.7419871794871795\n"
     ]
    },
    {
     "data": {
      "image/png": "[encoded data removed]",
      "text/plain": [
       "<Figure size 720x360 with 2 Axes>"
      ]
     },
     "metadata": {
      "needs_background": "light"
     },
     "output_type": "display_data"
    }
   ],
   "source": [
    "import seaborn as sns\n",
    "plt.figure(figsize =(10,5))\n",
    "plt.title(\"rf_matrix\")\n",
    "sns.heatmap(rf_cm,annot=True,cmap=\"Blues\", fmt=\"d\")\n",
    "print('Random Forest accuracy:',rf_accuracy )\n"
   ]
  },
  {
   "cell_type": "code",
   "execution_count": 68,
   "metadata": {},
   "outputs": [],
   "source": [
    "#SVM\n",
    "from sklearn.svm import SVC\n",
    "\n",
    "svc = SVC(kernel = 'rbf')\n",
    "svc.fit(X_train,y_train)\n",
    "svc_predict = svc.predict(X_test)\n",
    "svc_matrix = confusion_matrix(y_test, svc_predict)\n",
    "svc_accuracy = accuracy_score(y_test,svc_predict)"
   ]
  },
  {
   "cell_type": "code",
   "execution_count": 80,
   "metadata": {},
   "outputs": [
    {
     "name": "stdout",
     "output_type": "stream",
     "text": [
      "SVM accuracy: 0.7521367521367521\n"
     ]
    },
    {
     "data": {
      "image/png": "[encoded data removed]",
      "text/plain": [
       "<Figure size 720x360 with 2 Axes>"
      ]
     },
     "metadata": {
      "needs_background": "light"
     },
     "output_type": "display_data"
    }
   ],
   "source": [
    "plt.figure(figsize = (10,5))\n",
    "plt.title(\"svm_matrix\")\n",
    "sns.heatmap(svc_matrix,annot=True, cmap =\"Greens\", fmt = \"d\")\n",
    "print('SVM accuracy:', svc_accuracy)"
   ]
  },
  {
   "cell_type": "code",
   "execution_count": 72,
   "metadata": {},
   "outputs": [
    {
     "name": "stderr",
     "output_type": "stream",
     "text": [
      "C:\\Users\\User\\Anaconda3\\lib\\site-packages\\sklearn\\linear_model\\logistic.py:432: FutureWarning: Default solver will be changed to 'lbfgs' in 0.22. Specify a solver to silence this warning.\n",
      "  FutureWarning)\n",
      "C:\\Users\\User\\Anaconda3\\lib\\site-packages\\sklearn\\linear_model\\logistic.py:469: FutureWarning: Default multi_class will be changed to 'auto' in 0.22. Specify the multi_class option to silence this warning.\n",
      "  \"this warning.\", FutureWarning)\n"
     ]
    }
   ],
   "source": [
    "#Logistic Regression\n",
    "from sklearn.linear_model import LogisticRegression\n",
    "lr = LogisticRegression(random_state = 0)\n",
    "lr.fit(X_train, y_train)\n",
    "lr_predict = lr.predict(X_test)\n",
    "lr_matrix = confusion_matrix(y_test, lr_predict)\n",
    "lr_accuracy = accuracy_score(y_test,lr_predict)\n"
   ]
  },
  {
   "cell_type": "code",
   "execution_count": 79,
   "metadata": {},
   "outputs": [
    {
     "data": {
      "image/png": "[encoded data removed]",
      "text/plain": [
       "<Figure size 720x360 with 2 Axes>"
      ]
     },
     "metadata": {
      "needs_background": "light"
     },
     "output_type": "display_data"
    },
    {
     "name": "stdout",
     "output_type": "stream",
     "text": [
      "Logistic Regression accuracy: 0.7521367521367521\n"
     ]
    }
   ],
   "source": [
    "plt.figure(figsize=(10,5))\n",
    "plt.title(\"lr_matrix\")\n",
    "sns.heatmap(lr_matrix,annot=True,cmap=\"Oranges\",fmt=\"d\")\n",
    "plt.show()\n",
    "print('Logistic Regression accuracy:', lr_accuracy)"
   ]
  },
  {
   "cell_type": "code",
   "execution_count": 89,
   "metadata": {},
   "outputs": [
    {
     "data": {
      "text/plain": [
       "Text(0.5, 1.0, 'Model comparision')"
      ]
     },
     "execution_count": 89,
     "metadata": {},
     "output_type": "execute_result"
    },
    {
     "data": {
      "image/png": "[encoded data removed]",
      "text/plain": [
       "<Figure size 720x360 with 1 Axes>"
      ]
     },
     "metadata": {
      "needs_background": "light"
     },
     "output_type": "display_data"
    }
   ],
   "source": [
    "#Sammenligning af vores 3 modeller\n",
    "import matplotlib.pyplot as plt\n",
    "%matplotlib inline\n",
    "\n",
    "model_co = pd.Series(data=[lr_accuracy,svc_accuracy,rf_accuracy],index=['Logistic Regression', 'SVM', \"Random Forest\"])\n",
    "figure = plt.figure(figsize =(10,5))\n",
    "model_co.sort_values().plot.barh()\n",
    "plt.title('Model comparision')"
   ]
  }
 ],
 "metadata": {
  "kernelspec": {
   "display_name": "Python 3",
   "language": "python",
   "name": "python3"
  },
  "language_info": {
   "codemirror_mode": {
    "name": "ipython",
    "version": 3
   },
   "file_extension": ".py",
   "mimetype": "text/x-python",
   "name": "python",
   "nbconvert_exporter": "python",
   "pygments_lexer": "ipython3",
   "version": "3.7.4"
  }
 },
 "nbformat": 4,
 "nbformat_minor": 2
}
